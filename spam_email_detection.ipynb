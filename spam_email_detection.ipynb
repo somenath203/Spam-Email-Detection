{
 "cells": [
  {
   "cell_type": "markdown",
   "metadata": {
    "id": "YjwKoIjSXAPN"
   },
   "source": [
    "### Importing Necessary Libraries"
   ]
  },
  {
   "cell_type": "code",
   "execution_count": 1,
   "metadata": {
    "id": "dOBWzaj_7u7x"
   },
   "outputs": [],
   "source": [
    "import numpy as np\n",
    "import pandas as pd\n",
    "from sklearn.model_selection import train_test_split\n",
    "from sklearn.feature_extraction.text import CountVectorizer\n",
    "from sklearn.linear_model import LogisticRegression\n",
    "from sklearn.metrics import accuracy_score"
   ]
  },
  {
   "cell_type": "markdown",
   "metadata": {
    "id": "R-gyAVVYXGV7"
   },
   "source": [
    "### Reading and Analysing the Dataset"
   ]
  },
  {
   "cell_type": "code",
   "execution_count": 2,
   "metadata": {
    "id": "eTsgjNsm93TX"
   },
   "outputs": [],
   "source": [
    "email_data = pd.read_csv('spam_ham_dataset.csv')"
   ]
  },
  {
   "cell_type": "code",
   "execution_count": 3,
   "metadata": {
    "colab": {
     "base_uri": "https://localhost:8080/",
     "height": 423
    },
    "id": "G0hrV9bI-Bs_",
    "outputId": "951d0a3a-af84-4f24-99f8-0460c7a3d118"
   },
   "outputs": [
    {
     "data": {
      "text/html": [
       "<div>\n",
       "<style scoped>\n",
       "    .dataframe tbody tr th:only-of-type {\n",
       "        vertical-align: middle;\n",
       "    }\n",
       "\n",
       "    .dataframe tbody tr th {\n",
       "        vertical-align: top;\n",
       "    }\n",
       "\n",
       "    .dataframe thead th {\n",
       "        text-align: right;\n",
       "    }\n",
       "</style>\n",
       "<table border=\"1\" class=\"dataframe\">\n",
       "  <thead>\n",
       "    <tr style=\"text-align: right;\">\n",
       "      <th></th>\n",
       "      <th>Unnamed: 0</th>\n",
       "      <th>label</th>\n",
       "      <th>text</th>\n",
       "      <th>label_num</th>\n",
       "    </tr>\n",
       "  </thead>\n",
       "  <tbody>\n",
       "    <tr>\n",
       "      <th>0</th>\n",
       "      <td>605</td>\n",
       "      <td>ham</td>\n",
       "      <td>Subject: enron methanol ; meter # : 988291\\r\\n...</td>\n",
       "      <td>0</td>\n",
       "    </tr>\n",
       "    <tr>\n",
       "      <th>1</th>\n",
       "      <td>2349</td>\n",
       "      <td>ham</td>\n",
       "      <td>Subject: hpl nom for january 9 , 2001\\r\\n( see...</td>\n",
       "      <td>0</td>\n",
       "    </tr>\n",
       "    <tr>\n",
       "      <th>2</th>\n",
       "      <td>3624</td>\n",
       "      <td>ham</td>\n",
       "      <td>Subject: neon retreat\\r\\nho ho ho , we ' re ar...</td>\n",
       "      <td>0</td>\n",
       "    </tr>\n",
       "    <tr>\n",
       "      <th>3</th>\n",
       "      <td>4685</td>\n",
       "      <td>spam</td>\n",
       "      <td>Subject: photoshop , windows , office . cheap ...</td>\n",
       "      <td>1</td>\n",
       "    </tr>\n",
       "    <tr>\n",
       "      <th>4</th>\n",
       "      <td>2030</td>\n",
       "      <td>ham</td>\n",
       "      <td>Subject: re : indian springs\\r\\nthis deal is t...</td>\n",
       "      <td>0</td>\n",
       "    </tr>\n",
       "    <tr>\n",
       "      <th>...</th>\n",
       "      <td>...</td>\n",
       "      <td>...</td>\n",
       "      <td>...</td>\n",
       "      <td>...</td>\n",
       "    </tr>\n",
       "    <tr>\n",
       "      <th>5166</th>\n",
       "      <td>1518</td>\n",
       "      <td>ham</td>\n",
       "      <td>Subject: put the 10 on the ft\\r\\nthe transport...</td>\n",
       "      <td>0</td>\n",
       "    </tr>\n",
       "    <tr>\n",
       "      <th>5167</th>\n",
       "      <td>404</td>\n",
       "      <td>ham</td>\n",
       "      <td>Subject: 3 / 4 / 2000 and following noms\\r\\nhp...</td>\n",
       "      <td>0</td>\n",
       "    </tr>\n",
       "    <tr>\n",
       "      <th>5168</th>\n",
       "      <td>2933</td>\n",
       "      <td>ham</td>\n",
       "      <td>Subject: calpine daily gas nomination\\r\\n&gt;\\r\\n...</td>\n",
       "      <td>0</td>\n",
       "    </tr>\n",
       "    <tr>\n",
       "      <th>5169</th>\n",
       "      <td>1409</td>\n",
       "      <td>ham</td>\n",
       "      <td>Subject: industrial worksheets for august 2000...</td>\n",
       "      <td>0</td>\n",
       "    </tr>\n",
       "    <tr>\n",
       "      <th>5170</th>\n",
       "      <td>4807</td>\n",
       "      <td>spam</td>\n",
       "      <td>Subject: important online banking alert\\r\\ndea...</td>\n",
       "      <td>1</td>\n",
       "    </tr>\n",
       "  </tbody>\n",
       "</table>\n",
       "<p>5171 rows × 4 columns</p>\n",
       "</div>"
      ],
      "text/plain": [
       "      Unnamed: 0 label                                               text  \\\n",
       "0            605   ham  Subject: enron methanol ; meter # : 988291\\r\\n...   \n",
       "1           2349   ham  Subject: hpl nom for january 9 , 2001\\r\\n( see...   \n",
       "2           3624   ham  Subject: neon retreat\\r\\nho ho ho , we ' re ar...   \n",
       "3           4685  spam  Subject: photoshop , windows , office . cheap ...   \n",
       "4           2030   ham  Subject: re : indian springs\\r\\nthis deal is t...   \n",
       "...          ...   ...                                                ...   \n",
       "5166        1518   ham  Subject: put the 10 on the ft\\r\\nthe transport...   \n",
       "5167         404   ham  Subject: 3 / 4 / 2000 and following noms\\r\\nhp...   \n",
       "5168        2933   ham  Subject: calpine daily gas nomination\\r\\n>\\r\\n...   \n",
       "5169        1409   ham  Subject: industrial worksheets for august 2000...   \n",
       "5170        4807  spam  Subject: important online banking alert\\r\\ndea...   \n",
       "\n",
       "      label_num  \n",
       "0             0  \n",
       "1             0  \n",
       "2             0  \n",
       "3             1  \n",
       "4             0  \n",
       "...         ...  \n",
       "5166          0  \n",
       "5167          0  \n",
       "5168          0  \n",
       "5169          0  \n",
       "5170          1  \n",
       "\n",
       "[5171 rows x 4 columns]"
      ]
     },
     "execution_count": 3,
     "metadata": {},
     "output_type": "execute_result"
    }
   ],
   "source": [
    "email_data"
   ]
  },
  {
   "cell_type": "markdown",
   "metadata": {
    "id": "y75soQoAj1z8"
   },
   "source": [
    "### Dropping Unnecessary Columns"
   ]
  },
  {
   "cell_type": "code",
   "execution_count": 4,
   "metadata": {
    "id": "p5FjvOVl-DiU"
   },
   "outputs": [],
   "source": [
    "email_data.drop(columns=[\"Unnamed: 0\", \"label\"], inplace=True)"
   ]
  },
  {
   "cell_type": "code",
   "execution_count": 5,
   "metadata": {
    "colab": {
     "base_uri": "https://localhost:8080/",
     "height": 423
    },
    "id": "yM0VUeWg-Fkp",
    "outputId": "6efeb9e2-73bd-4b22-8612-44efcc902d5f"
   },
   "outputs": [
    {
     "data": {
      "text/html": [
       "<div>\n",
       "<style scoped>\n",
       "    .dataframe tbody tr th:only-of-type {\n",
       "        vertical-align: middle;\n",
       "    }\n",
       "\n",
       "    .dataframe tbody tr th {\n",
       "        vertical-align: top;\n",
       "    }\n",
       "\n",
       "    .dataframe thead th {\n",
       "        text-align: right;\n",
       "    }\n",
       "</style>\n",
       "<table border=\"1\" class=\"dataframe\">\n",
       "  <thead>\n",
       "    <tr style=\"text-align: right;\">\n",
       "      <th></th>\n",
       "      <th>text</th>\n",
       "      <th>label_num</th>\n",
       "    </tr>\n",
       "  </thead>\n",
       "  <tbody>\n",
       "    <tr>\n",
       "      <th>0</th>\n",
       "      <td>Subject: enron methanol ; meter # : 988291\\r\\n...</td>\n",
       "      <td>0</td>\n",
       "    </tr>\n",
       "    <tr>\n",
       "      <th>1</th>\n",
       "      <td>Subject: hpl nom for january 9 , 2001\\r\\n( see...</td>\n",
       "      <td>0</td>\n",
       "    </tr>\n",
       "    <tr>\n",
       "      <th>2</th>\n",
       "      <td>Subject: neon retreat\\r\\nho ho ho , we ' re ar...</td>\n",
       "      <td>0</td>\n",
       "    </tr>\n",
       "    <tr>\n",
       "      <th>3</th>\n",
       "      <td>Subject: photoshop , windows , office . cheap ...</td>\n",
       "      <td>1</td>\n",
       "    </tr>\n",
       "    <tr>\n",
       "      <th>4</th>\n",
       "      <td>Subject: re : indian springs\\r\\nthis deal is t...</td>\n",
       "      <td>0</td>\n",
       "    </tr>\n",
       "    <tr>\n",
       "      <th>...</th>\n",
       "      <td>...</td>\n",
       "      <td>...</td>\n",
       "    </tr>\n",
       "    <tr>\n",
       "      <th>5166</th>\n",
       "      <td>Subject: put the 10 on the ft\\r\\nthe transport...</td>\n",
       "      <td>0</td>\n",
       "    </tr>\n",
       "    <tr>\n",
       "      <th>5167</th>\n",
       "      <td>Subject: 3 / 4 / 2000 and following noms\\r\\nhp...</td>\n",
       "      <td>0</td>\n",
       "    </tr>\n",
       "    <tr>\n",
       "      <th>5168</th>\n",
       "      <td>Subject: calpine daily gas nomination\\r\\n&gt;\\r\\n...</td>\n",
       "      <td>0</td>\n",
       "    </tr>\n",
       "    <tr>\n",
       "      <th>5169</th>\n",
       "      <td>Subject: industrial worksheets for august 2000...</td>\n",
       "      <td>0</td>\n",
       "    </tr>\n",
       "    <tr>\n",
       "      <th>5170</th>\n",
       "      <td>Subject: important online banking alert\\r\\ndea...</td>\n",
       "      <td>1</td>\n",
       "    </tr>\n",
       "  </tbody>\n",
       "</table>\n",
       "<p>5171 rows × 2 columns</p>\n",
       "</div>"
      ],
      "text/plain": [
       "                                                   text  label_num\n",
       "0     Subject: enron methanol ; meter # : 988291\\r\\n...          0\n",
       "1     Subject: hpl nom for january 9 , 2001\\r\\n( see...          0\n",
       "2     Subject: neon retreat\\r\\nho ho ho , we ' re ar...          0\n",
       "3     Subject: photoshop , windows , office . cheap ...          1\n",
       "4     Subject: re : indian springs\\r\\nthis deal is t...          0\n",
       "...                                                 ...        ...\n",
       "5166  Subject: put the 10 on the ft\\r\\nthe transport...          0\n",
       "5167  Subject: 3 / 4 / 2000 and following noms\\r\\nhp...          0\n",
       "5168  Subject: calpine daily gas nomination\\r\\n>\\r\\n...          0\n",
       "5169  Subject: industrial worksheets for august 2000...          0\n",
       "5170  Subject: important online banking alert\\r\\ndea...          1\n",
       "\n",
       "[5171 rows x 2 columns]"
      ]
     },
     "execution_count": 5,
     "metadata": {},
     "output_type": "execute_result"
    }
   ],
   "source": [
    "email_data"
   ]
  },
  {
   "cell_type": "code",
   "execution_count": 6,
   "metadata": {
    "colab": {
     "base_uri": "https://localhost:8080/"
    },
    "id": "Lv5b01gP-UPs",
    "outputId": "bcbf0b19-80e9-4596-9f22-12174bf4abb1"
   },
   "outputs": [
    {
     "data": {
      "text/plain": [
       "text         0\n",
       "label_num    0\n",
       "dtype: int64"
      ]
     },
     "execution_count": 6,
     "metadata": {},
     "output_type": "execute_result"
    }
   ],
   "source": [
    "email_data.isnull().sum()"
   ]
  },
  {
   "cell_type": "code",
   "execution_count": 7,
   "metadata": {
    "colab": {
     "base_uri": "https://localhost:8080/"
    },
    "id": "Kh3-dhYFbCeA",
    "outputId": "5519c1f8-bea2-42ad-9ace-a3fac68dc568"
   },
   "outputs": [
    {
     "name": "stdout",
     "output_type": "stream",
     "text": [
      "<class 'pandas.core.frame.DataFrame'>\n",
      "RangeIndex: 5171 entries, 0 to 5170\n",
      "Data columns (total 2 columns):\n",
      " #   Column     Non-Null Count  Dtype \n",
      "---  ------     --------------  ----- \n",
      " 0   text       5171 non-null   object\n",
      " 1   label_num  5171 non-null   int64 \n",
      "dtypes: int64(1), object(1)\n",
      "memory usage: 80.9+ KB\n"
     ]
    }
   ],
   "source": [
    "email_data.info()"
   ]
  },
  {
   "cell_type": "markdown",
   "metadata": {
    "id": "1sSONo5z3QN_"
   },
   "source": [
    "### Calculating total number of Legit Emails and Total Number of Spam Emails"
   ]
  },
  {
   "cell_type": "code",
   "execution_count": 8,
   "metadata": {
    "colab": {
     "base_uri": "https://localhost:8080/"
    },
    "id": "i0eA8uberLO4",
    "outputId": "b70f4f7d-e402-45da-b905-cc0ab79097b6"
   },
   "outputs": [
    {
     "name": "stdout",
     "output_type": "stream",
     "text": [
      "Total Number of Spam Email: (1499, 2). Total Nmber of Legit Emails: (3672, 2)\n"
     ]
    }
   ],
   "source": [
    "total_spam_emails = email_data[email_data.label_num == 1]\n",
    "total_legit_emails = email_data[email_data.label_num == 0]\n",
    "print(f\"Total Number of Spam Email: {total_spam_emails.shape}. Total Nmber of Legit Emails: {total_legit_emails.shape}\")"
   ]
  },
  {
   "cell_type": "markdown",
   "metadata": {
    "id": "-Cm6AcAg3Y9g"
   },
   "source": [
    "### Taking a sample out of the original legit emails in order to solve the problem of data imbalance\n",
    "\n",
    "\n"
   ]
  },
  {
   "cell_type": "code",
   "execution_count": 9,
   "metadata": {
    "id": "YPzgfD0Szc_w"
   },
   "outputs": [],
   "source": [
    "legit_email_sample = total_legit_emails.sample(n=1499)"
   ]
  },
  {
   "cell_type": "code",
   "execution_count": 10,
   "metadata": {
    "colab": {
     "base_uri": "https://localhost:8080/"
    },
    "id": "YPYSyqbVz2Pe",
    "outputId": "2c98bb73-1939-442d-e0b1-37740729543d"
   },
   "outputs": [
    {
     "name": "stdout",
     "output_type": "stream",
     "text": [
      "Total Number of Spam Email: (1499, 2). Total Nmber of Legit Emails: (1499, 2)\n"
     ]
    }
   ],
   "source": [
    "total_legit_emails_sample = legit_email_sample[legit_email_sample.label_num == 0]\n",
    "total_spam_emails = email_data[email_data.label_num == 1]\n",
    "print(f\"Total Number of Spam Email: {total_spam_emails.shape}. Total Nmber of Legit Emails: {total_legit_emails_sample.shape}\")"
   ]
  },
  {
   "cell_type": "markdown",
   "metadata": {
    "id": "-dckmxGe3q7Z"
   },
   "source": [
    "### Creating a new dataset out of the new legit email sample"
   ]
  },
  {
   "cell_type": "code",
   "execution_count": 11,
   "metadata": {
    "id": "dVKiPa0Pz7Jk"
   },
   "outputs": [],
   "source": [
    "new_email_dataset = pd.concat([legit_email_sample, total_spam_emails], axis=0)"
   ]
  },
  {
   "cell_type": "code",
   "execution_count": 12,
   "metadata": {
    "colab": {
     "base_uri": "https://localhost:8080/",
     "height": 423
    },
    "id": "QX3Puea60YhK",
    "outputId": "0faf8276-002f-458f-f4ee-7fcb277d0054"
   },
   "outputs": [
    {
     "data": {
      "text/html": [
       "<div>\n",
       "<style scoped>\n",
       "    .dataframe tbody tr th:only-of-type {\n",
       "        vertical-align: middle;\n",
       "    }\n",
       "\n",
       "    .dataframe tbody tr th {\n",
       "        vertical-align: top;\n",
       "    }\n",
       "\n",
       "    .dataframe thead th {\n",
       "        text-align: right;\n",
       "    }\n",
       "</style>\n",
       "<table border=\"1\" class=\"dataframe\">\n",
       "  <thead>\n",
       "    <tr style=\"text-align: right;\">\n",
       "      <th></th>\n",
       "      <th>text</th>\n",
       "      <th>label_num</th>\n",
       "    </tr>\n",
       "  </thead>\n",
       "  <tbody>\n",
       "    <tr>\n",
       "      <th>2767</th>\n",
       "      <td>Subject: 987012\\r\\ndaren , i just talked to ma...</td>\n",
       "      <td>0</td>\n",
       "    </tr>\n",
       "    <tr>\n",
       "      <th>2913</th>\n",
       "      <td>Subject: 2000 goals &amp; objectives\\r\\n- - - - - ...</td>\n",
       "      <td>0</td>\n",
       "    </tr>\n",
       "    <tr>\n",
       "      <th>1307</th>\n",
       "      <td>Subject: bad estimates on 28 th\\r\\nwe are gett...</td>\n",
       "      <td>0</td>\n",
       "    </tr>\n",
       "    <tr>\n",
       "      <th>2705</th>\n",
       "      <td>Subject: same day change - revision # 1 - txu ...</td>\n",
       "      <td>0</td>\n",
       "    </tr>\n",
       "    <tr>\n",
       "      <th>4668</th>\n",
       "      <td>Subject: customer meeting invitation\\r\\ngood a...</td>\n",
       "      <td>0</td>\n",
       "    </tr>\n",
       "    <tr>\n",
       "      <th>...</th>\n",
       "      <td>...</td>\n",
       "      <td>...</td>\n",
       "    </tr>\n",
       "    <tr>\n",
       "      <th>5159</th>\n",
       "      <td>Subject: pictures\\r\\nstreamlined denizen ajar ...</td>\n",
       "      <td>1</td>\n",
       "    </tr>\n",
       "    <tr>\n",
       "      <th>5161</th>\n",
       "      <td>Subject: penny stocks are about timing\\r\\nnoma...</td>\n",
       "      <td>1</td>\n",
       "    </tr>\n",
       "    <tr>\n",
       "      <th>5162</th>\n",
       "      <td>Subject: anomaly boys from 3881\\r\\nuosda apapr...</td>\n",
       "      <td>1</td>\n",
       "    </tr>\n",
       "    <tr>\n",
       "      <th>5164</th>\n",
       "      <td>Subject: slutty milf wants to meet you\\r\\ntake...</td>\n",
       "      <td>1</td>\n",
       "    </tr>\n",
       "    <tr>\n",
       "      <th>5170</th>\n",
       "      <td>Subject: important online banking alert\\r\\ndea...</td>\n",
       "      <td>1</td>\n",
       "    </tr>\n",
       "  </tbody>\n",
       "</table>\n",
       "<p>2998 rows × 2 columns</p>\n",
       "</div>"
      ],
      "text/plain": [
       "                                                   text  label_num\n",
       "2767  Subject: 987012\\r\\ndaren , i just talked to ma...          0\n",
       "2913  Subject: 2000 goals & objectives\\r\\n- - - - - ...          0\n",
       "1307  Subject: bad estimates on 28 th\\r\\nwe are gett...          0\n",
       "2705  Subject: same day change - revision # 1 - txu ...          0\n",
       "4668  Subject: customer meeting invitation\\r\\ngood a...          0\n",
       "...                                                 ...        ...\n",
       "5159  Subject: pictures\\r\\nstreamlined denizen ajar ...          1\n",
       "5161  Subject: penny stocks are about timing\\r\\nnoma...          1\n",
       "5162  Subject: anomaly boys from 3881\\r\\nuosda apapr...          1\n",
       "5164  Subject: slutty milf wants to meet you\\r\\ntake...          1\n",
       "5170  Subject: important online banking alert\\r\\ndea...          1\n",
       "\n",
       "[2998 rows x 2 columns]"
      ]
     },
     "execution_count": 12,
     "metadata": {},
     "output_type": "execute_result"
    }
   ],
   "source": [
    "new_email_dataset"
   ]
  },
  {
   "cell_type": "markdown",
   "metadata": {
    "id": "8Auaq55hgW5R"
   },
   "source": [
    "### Separating Features and Labels"
   ]
  },
  {
   "cell_type": "code",
   "execution_count": 13,
   "metadata": {
    "id": "aGH188Kyeo0o"
   },
   "outputs": [],
   "source": [
    "X = new_email_dataset['text']\n",
    "y = new_email_dataset['label_num']"
   ]
  },
  {
   "cell_type": "markdown",
   "metadata": {
    "id": "zzrdkShIe6B0"
   },
   "source": [
    "### Applying train Test Split"
   ]
  },
  {
   "cell_type": "code",
   "execution_count": 14,
   "metadata": {
    "id": "41sgRlege5di"
   },
   "outputs": [],
   "source": [
    "X_train, X_test, y_train, y_test = train_test_split(X, y, test_size=0.2, random_state=3)"
   ]
  },
  {
   "cell_type": "markdown",
   "metadata": {
    "id": "sOI9UrABj1iN"
   },
   "source": [
    "### Initializing CountVectorizer"
   ]
  },
  {
   "cell_type": "code",
   "execution_count": 15,
   "metadata": {
    "id": "KX4o3o1Hj2KX"
   },
   "outputs": [],
   "source": [
    "vectorizer = CountVectorizer(min_df=1, stop_words='english', lowercase=True)"
   ]
  },
  {
   "cell_type": "markdown",
   "metadata": {},
   "source": [
    "### Transforming the features from text into numeric value"
   ]
  },
  {
   "cell_type": "code",
   "execution_count": 16,
   "metadata": {
    "id": "VntEoLuSj6ot"
   },
   "outputs": [],
   "source": [
    "X_train_vectorized = vectorizer.fit_transform(X_train)\n",
    "X_test_vectorized = vectorizer.transform(X_test)"
   ]
  },
  {
   "cell_type": "markdown",
   "metadata": {
    "id": "R_xwDlGKmCRj"
   },
   "source": [
    "### Initializing Logistic Regression Model"
   ]
  },
  {
   "cell_type": "code",
   "execution_count": 17,
   "metadata": {
    "id": "hELSUGGMmGcM"
   },
   "outputs": [],
   "source": [
    "model = LogisticRegression()"
   ]
  },
  {
   "cell_type": "markdown",
   "metadata": {
    "id": "eecsGTjymKLP"
   },
   "source": [
    "### Training the Model"
   ]
  },
  {
   "cell_type": "code",
   "execution_count": 18,
   "metadata": {
    "colab": {
     "base_uri": "https://localhost:8080/",
     "height": 74
    },
    "id": "Hxhe4xL2mIZQ",
    "outputId": "48251f5b-f0c8-4905-c6fc-66a537c89c83"
   },
   "outputs": [
    {
     "data": {
      "text/html": [
       "<style>#sk-container-id-1 {color: black;background-color: white;}#sk-container-id-1 pre{padding: 0;}#sk-container-id-1 div.sk-toggleable {background-color: white;}#sk-container-id-1 label.sk-toggleable__label {cursor: pointer;display: block;width: 100%;margin-bottom: 0;padding: 0.3em;box-sizing: border-box;text-align: center;}#sk-container-id-1 label.sk-toggleable__label-arrow:before {content: \"▸\";float: left;margin-right: 0.25em;color: #696969;}#sk-container-id-1 label.sk-toggleable__label-arrow:hover:before {color: black;}#sk-container-id-1 div.sk-estimator:hover label.sk-toggleable__label-arrow:before {color: black;}#sk-container-id-1 div.sk-toggleable__content {max-height: 0;max-width: 0;overflow: hidden;text-align: left;background-color: #f0f8ff;}#sk-container-id-1 div.sk-toggleable__content pre {margin: 0.2em;color: black;border-radius: 0.25em;background-color: #f0f8ff;}#sk-container-id-1 input.sk-toggleable__control:checked~div.sk-toggleable__content {max-height: 200px;max-width: 100%;overflow: auto;}#sk-container-id-1 input.sk-toggleable__control:checked~label.sk-toggleable__label-arrow:before {content: \"▾\";}#sk-container-id-1 div.sk-estimator input.sk-toggleable__control:checked~label.sk-toggleable__label {background-color: #d4ebff;}#sk-container-id-1 div.sk-label input.sk-toggleable__control:checked~label.sk-toggleable__label {background-color: #d4ebff;}#sk-container-id-1 input.sk-hidden--visually {border: 0;clip: rect(1px 1px 1px 1px);clip: rect(1px, 1px, 1px, 1px);height: 1px;margin: -1px;overflow: hidden;padding: 0;position: absolute;width: 1px;}#sk-container-id-1 div.sk-estimator {font-family: monospace;background-color: #f0f8ff;border: 1px dotted black;border-radius: 0.25em;box-sizing: border-box;margin-bottom: 0.5em;}#sk-container-id-1 div.sk-estimator:hover {background-color: #d4ebff;}#sk-container-id-1 div.sk-parallel-item::after {content: \"\";width: 100%;border-bottom: 1px solid gray;flex-grow: 1;}#sk-container-id-1 div.sk-label:hover label.sk-toggleable__label {background-color: #d4ebff;}#sk-container-id-1 div.sk-serial::before {content: \"\";position: absolute;border-left: 1px solid gray;box-sizing: border-box;top: 0;bottom: 0;left: 50%;z-index: 0;}#sk-container-id-1 div.sk-serial {display: flex;flex-direction: column;align-items: center;background-color: white;padding-right: 0.2em;padding-left: 0.2em;position: relative;}#sk-container-id-1 div.sk-item {position: relative;z-index: 1;}#sk-container-id-1 div.sk-parallel {display: flex;align-items: stretch;justify-content: center;background-color: white;position: relative;}#sk-container-id-1 div.sk-item::before, #sk-container-id-1 div.sk-parallel-item::before {content: \"\";position: absolute;border-left: 1px solid gray;box-sizing: border-box;top: 0;bottom: 0;left: 50%;z-index: -1;}#sk-container-id-1 div.sk-parallel-item {display: flex;flex-direction: column;z-index: 1;position: relative;background-color: white;}#sk-container-id-1 div.sk-parallel-item:first-child::after {align-self: flex-end;width: 50%;}#sk-container-id-1 div.sk-parallel-item:last-child::after {align-self: flex-start;width: 50%;}#sk-container-id-1 div.sk-parallel-item:only-child::after {width: 0;}#sk-container-id-1 div.sk-dashed-wrapped {border: 1px dashed gray;margin: 0 0.4em 0.5em 0.4em;box-sizing: border-box;padding-bottom: 0.4em;background-color: white;}#sk-container-id-1 div.sk-label label {font-family: monospace;font-weight: bold;display: inline-block;line-height: 1.2em;}#sk-container-id-1 div.sk-label-container {text-align: center;}#sk-container-id-1 div.sk-container {/* jupyter's `normalize.less` sets `[hidden] { display: none; }` but bootstrap.min.css set `[hidden] { display: none !important; }` so we also need the `!important` here to be able to override the default hidden behavior on the sphinx rendered scikit-learn.org. See: https://github.com/scikit-learn/scikit-learn/issues/21755 */display: inline-block !important;position: relative;}#sk-container-id-1 div.sk-text-repr-fallback {display: none;}</style><div id=\"sk-container-id-1\" class=\"sk-top-container\"><div class=\"sk-text-repr-fallback\"><pre>LogisticRegression()</pre><b>In a Jupyter environment, please rerun this cell to show the HTML representation or trust the notebook. <br />On GitHub, the HTML representation is unable to render, please try loading this page with nbviewer.org.</b></div><div class=\"sk-container\" hidden><div class=\"sk-item\"><div class=\"sk-estimator sk-toggleable\"><input class=\"sk-toggleable__control sk-hidden--visually\" id=\"sk-estimator-id-1\" type=\"checkbox\" checked><label for=\"sk-estimator-id-1\" class=\"sk-toggleable__label sk-toggleable__label-arrow\">LogisticRegression</label><div class=\"sk-toggleable__content\"><pre>LogisticRegression()</pre></div></div></div></div></div>"
      ],
      "text/plain": [
       "LogisticRegression()"
      ]
     },
     "execution_count": 18,
     "metadata": {},
     "output_type": "execute_result"
    }
   ],
   "source": [
    "model.fit(X_train_vectorized, y_train)"
   ]
  },
  {
   "cell_type": "markdown",
   "metadata": {
    "id": "3GgKtSQ6mcy3"
   },
   "source": [
    "### Calculating the Accuracy of the Training and Testing Data"
   ]
  },
  {
   "cell_type": "code",
   "execution_count": 19,
   "metadata": {
    "colab": {
     "base_uri": "https://localhost:8080/"
    },
    "id": "i9SQBAi6mc_3",
    "outputId": "98cd6605-bd6e-43b4-8a90-6085924b4afe"
   },
   "outputs": [
    {
     "name": "stdout",
     "output_type": "stream",
     "text": [
      "Accuracy of the Model: 0.9991659716430359\n"
     ]
    }
   ],
   "source": [
    "prediction_X_train = model.predict(X_train_vectorized)\n",
    "\n",
    "print(f\"Accuracy of the Model: {accuracy_score(prediction_X_train, y_train)}\")"
   ]
  },
  {
   "cell_type": "code",
   "execution_count": 20,
   "metadata": {
    "colab": {
     "base_uri": "https://localhost:8080/"
    },
    "id": "DxytOCrWmq-u",
    "outputId": "00f20cdf-d0d3-4387-a6f0-c4b91ed5d378"
   },
   "outputs": [
    {
     "name": "stdout",
     "output_type": "stream",
     "text": [
      "Accuracy of the Model: 0.985\n"
     ]
    }
   ],
   "source": [
    "prediction_X_test = model.predict(X_test_vectorized)\n",
    "\n",
    "print(f\"Accuracy of the Model: {accuracy_score(prediction_X_test, y_test)}\")"
   ]
  },
  {
   "cell_type": "markdown",
   "metadata": {
    "id": "EMVBRcuGjkmj"
   },
   "source": [
    "### Predicted Result VS Actual Result"
   ]
  },
  {
   "cell_type": "code",
   "execution_count": 21,
   "metadata": {
    "colab": {
     "base_uri": "https://localhost:8080/"
    },
    "id": "nZParDamfUrJ",
    "outputId": "9238195f-24e0-4e79-fcab-18bc3629a432"
   },
   "outputs": [
    {
     "name": "stdout",
     "output_type": "stream",
     "text": [
      "Predicted Result: Not A Spam Mail. Actual Result: Not A Spam Mail\n",
      "Predicted Result: Not A Spam Mail. Actual Result: Not A Spam Mail\n",
      "Predicted Result: Spam Mail. Actual Result: Spam Mail\n",
      "Predicted Result: Spam Mail. Actual Result: Spam Mail\n",
      "Predicted Result: Not A Spam Mail. Actual Result: Not A Spam Mail\n",
      "Predicted Result: Not A Spam Mail. Actual Result: Not A Spam Mail\n",
      "Predicted Result: Not A Spam Mail. Actual Result: Not A Spam Mail\n",
      "Predicted Result: Not A Spam Mail. Actual Result: Not A Spam Mail\n",
      "Predicted Result: Not A Spam Mail. Actual Result: Not A Spam Mail\n",
      "Predicted Result: Not A Spam Mail. Actual Result: Not A Spam Mail\n",
      "Predicted Result: Spam Mail. Actual Result: Spam Mail\n",
      "Predicted Result: Spam Mail. Actual Result: Spam Mail\n",
      "Predicted Result: Spam Mail. Actual Result: Spam Mail\n",
      "Predicted Result: Spam Mail. Actual Result: Spam Mail\n",
      "Predicted Result: Spam Mail. Actual Result: Spam Mail\n",
      "Predicted Result: Spam Mail. Actual Result: Spam Mail\n",
      "Predicted Result: Spam Mail. Actual Result: Spam Mail\n",
      "Predicted Result: Spam Mail. Actual Result: Spam Mail\n",
      "Predicted Result: Not A Spam Mail. Actual Result: Not A Spam Mail\n",
      "Predicted Result: Spam Mail. Actual Result: Spam Mail\n",
      "Predicted Result: Spam Mail. Actual Result: Spam Mail\n",
      "Predicted Result: Spam Mail. Actual Result: Spam Mail\n",
      "Predicted Result: Not A Spam Mail. Actual Result: Not A Spam Mail\n",
      "Predicted Result: Not A Spam Mail. Actual Result: Not A Spam Mail\n",
      "Predicted Result: Not A Spam Mail. Actual Result: Not A Spam Mail\n",
      "Predicted Result: Spam Mail. Actual Result: Spam Mail\n",
      "Predicted Result: Spam Mail. Actual Result: Spam Mail\n",
      "Predicted Result: Not A Spam Mail. Actual Result: Not A Spam Mail\n",
      "Predicted Result: Not A Spam Mail. Actual Result: Not A Spam Mail\n",
      "Predicted Result: Spam Mail. Actual Result: Spam Mail\n",
      "Predicted Result: Not A Spam Mail. Actual Result: Not A Spam Mail\n",
      "Predicted Result: Spam Mail. Actual Result: Spam Mail\n",
      "Predicted Result: Spam Mail. Actual Result: Spam Mail\n",
      "Predicted Result: Spam Mail. Actual Result: Spam Mail\n",
      "Predicted Result: Spam Mail. Actual Result: Spam Mail\n",
      "Predicted Result: Not A Spam Mail. Actual Result: Not A Spam Mail\n",
      "Predicted Result: Spam Mail. Actual Result: Spam Mail\n",
      "Predicted Result: Not A Spam Mail. Actual Result: Not A Spam Mail\n",
      "Predicted Result: Spam Mail. Actual Result: Spam Mail\n",
      "Predicted Result: Not A Spam Mail. Actual Result: Not A Spam Mail\n",
      "Predicted Result: Not A Spam Mail. Actual Result: Not A Spam Mail\n",
      "Predicted Result: Spam Mail. Actual Result: Spam Mail\n",
      "Predicted Result: Not A Spam Mail. Actual Result: Not A Spam Mail\n",
      "Predicted Result: Spam Mail. Actual Result: Spam Mail\n",
      "Predicted Result: Spam Mail. Actual Result: Spam Mail\n",
      "Predicted Result: Spam Mail. Actual Result: Spam Mail\n",
      "Predicted Result: Spam Mail. Actual Result: Spam Mail\n",
      "Predicted Result: Not A Spam Mail. Actual Result: Not A Spam Mail\n",
      "Predicted Result: Not A Spam Mail. Actual Result: Not A Spam Mail\n",
      "Predicted Result: Not A Spam Mail. Actual Result: Not A Spam Mail\n",
      "Predicted Result: Not A Spam Mail. Actual Result: Not A Spam Mail\n",
      "Predicted Result: Spam Mail. Actual Result: Spam Mail\n",
      "Predicted Result: Spam Mail. Actual Result: Spam Mail\n",
      "Predicted Result: Spam Mail. Actual Result: Spam Mail\n",
      "Predicted Result: Spam Mail. Actual Result: Spam Mail\n",
      "Predicted Result: Not A Spam Mail. Actual Result: Not A Spam Mail\n",
      "Predicted Result: Spam Mail. Actual Result: Spam Mail\n",
      "Predicted Result: Not A Spam Mail. Actual Result: Not A Spam Mail\n",
      "Predicted Result: Not A Spam Mail. Actual Result: Not A Spam Mail\n",
      "Predicted Result: Not A Spam Mail. Actual Result: Not A Spam Mail\n",
      "Predicted Result: Not A Spam Mail. Actual Result: Not A Spam Mail\n",
      "Predicted Result: Not A Spam Mail. Actual Result: Not A Spam Mail\n",
      "Predicted Result: Not A Spam Mail. Actual Result: Not A Spam Mail\n",
      "Predicted Result: Spam Mail. Actual Result: Spam Mail\n",
      "Predicted Result: Spam Mail. Actual Result: Spam Mail\n",
      "Predicted Result: Not A Spam Mail. Actual Result: Not A Spam Mail\n",
      "Predicted Result: Spam Mail. Actual Result: Spam Mail\n",
      "Predicted Result: Spam Mail. Actual Result: Spam Mail\n",
      "Predicted Result: Not A Spam Mail. Actual Result: Not A Spam Mail\n",
      "Predicted Result: Not A Spam Mail. Actual Result: Not A Spam Mail\n",
      "Predicted Result: Not A Spam Mail. Actual Result: Not A Spam Mail\n",
      "Predicted Result: Spam Mail. Actual Result: Spam Mail\n",
      "Predicted Result: Not A Spam Mail. Actual Result: Not A Spam Mail\n",
      "Predicted Result: Spam Mail. Actual Result: Spam Mail\n",
      "Predicted Result: Spam Mail. Actual Result: Spam Mail\n",
      "Predicted Result: Spam Mail. Actual Result: Spam Mail\n",
      "Predicted Result: Not A Spam Mail. Actual Result: Not A Spam Mail\n",
      "Predicted Result: Spam Mail. Actual Result: Spam Mail\n",
      "Predicted Result: Spam Mail. Actual Result: Not A Spam Mail\n",
      "Predicted Result: Spam Mail. Actual Result: Spam Mail\n",
      "Predicted Result: Spam Mail. Actual Result: Spam Mail\n",
      "Predicted Result: Spam Mail. Actual Result: Spam Mail\n",
      "Predicted Result: Not A Spam Mail. Actual Result: Not A Spam Mail\n",
      "Predicted Result: Not A Spam Mail. Actual Result: Not A Spam Mail\n",
      "Predicted Result: Spam Mail. Actual Result: Spam Mail\n",
      "Predicted Result: Not A Spam Mail. Actual Result: Not A Spam Mail\n",
      "Predicted Result: Not A Spam Mail. Actual Result: Not A Spam Mail\n",
      "Predicted Result: Spam Mail. Actual Result: Spam Mail\n",
      "Predicted Result: Not A Spam Mail. Actual Result: Not A Spam Mail\n",
      "Predicted Result: Spam Mail. Actual Result: Spam Mail\n",
      "Predicted Result: Spam Mail. Actual Result: Spam Mail\n",
      "Predicted Result: Spam Mail. Actual Result: Spam Mail\n",
      "Predicted Result: Spam Mail. Actual Result: Spam Mail\n",
      "Predicted Result: Not A Spam Mail. Actual Result: Not A Spam Mail\n",
      "Predicted Result: Spam Mail. Actual Result: Spam Mail\n",
      "Predicted Result: Not A Spam Mail. Actual Result: Not A Spam Mail\n",
      "Predicted Result: Not A Spam Mail. Actual Result: Not A Spam Mail\n",
      "Predicted Result: Not A Spam Mail. Actual Result: Not A Spam Mail\n",
      "Predicted Result: Not A Spam Mail. Actual Result: Not A Spam Mail\n",
      "Predicted Result: Spam Mail. Actual Result: Spam Mail\n",
      "Predicted Result: Spam Mail. Actual Result: Spam Mail\n",
      "Predicted Result: Spam Mail. Actual Result: Spam Mail\n",
      "Predicted Result: Spam Mail. Actual Result: Spam Mail\n",
      "Predicted Result: Spam Mail. Actual Result: Spam Mail\n",
      "Predicted Result: Spam Mail. Actual Result: Spam Mail\n",
      "Predicted Result: Not A Spam Mail. Actual Result: Not A Spam Mail\n",
      "Predicted Result: Spam Mail. Actual Result: Spam Mail\n",
      "Predicted Result: Not A Spam Mail. Actual Result: Not A Spam Mail\n",
      "Predicted Result: Spam Mail. Actual Result: Spam Mail\n",
      "Predicted Result: Not A Spam Mail. Actual Result: Not A Spam Mail\n",
      "Predicted Result: Not A Spam Mail. Actual Result: Not A Spam Mail\n",
      "Predicted Result: Spam Mail. Actual Result: Spam Mail\n",
      "Predicted Result: Not A Spam Mail. Actual Result: Not A Spam Mail\n",
      "Predicted Result: Spam Mail. Actual Result: Spam Mail\n",
      "Predicted Result: Spam Mail. Actual Result: Spam Mail\n",
      "Predicted Result: Not A Spam Mail. Actual Result: Not A Spam Mail\n",
      "Predicted Result: Not A Spam Mail. Actual Result: Not A Spam Mail\n",
      "Predicted Result: Spam Mail. Actual Result: Spam Mail\n",
      "Predicted Result: Not A Spam Mail. Actual Result: Not A Spam Mail\n",
      "Predicted Result: Not A Spam Mail. Actual Result: Not A Spam Mail\n",
      "Predicted Result: Spam Mail. Actual Result: Spam Mail\n",
      "Predicted Result: Spam Mail. Actual Result: Spam Mail\n",
      "Predicted Result: Not A Spam Mail. Actual Result: Not A Spam Mail\n",
      "Predicted Result: Not A Spam Mail. Actual Result: Not A Spam Mail\n",
      "Predicted Result: Spam Mail. Actual Result: Not A Spam Mail\n",
      "Predicted Result: Spam Mail. Actual Result: Spam Mail\n",
      "Predicted Result: Spam Mail. Actual Result: Not A Spam Mail\n",
      "Predicted Result: Not A Spam Mail. Actual Result: Not A Spam Mail\n",
      "Predicted Result: Spam Mail. Actual Result: Spam Mail\n",
      "Predicted Result: Spam Mail. Actual Result: Spam Mail\n",
      "Predicted Result: Spam Mail. Actual Result: Spam Mail\n",
      "Predicted Result: Spam Mail. Actual Result: Spam Mail\n",
      "Predicted Result: Spam Mail. Actual Result: Spam Mail\n",
      "Predicted Result: Not A Spam Mail. Actual Result: Not A Spam Mail\n",
      "Predicted Result: Not A Spam Mail. Actual Result: Not A Spam Mail\n",
      "Predicted Result: Not A Spam Mail. Actual Result: Not A Spam Mail\n",
      "Predicted Result: Spam Mail. Actual Result: Spam Mail\n",
      "Predicted Result: Spam Mail. Actual Result: Spam Mail\n",
      "Predicted Result: Not A Spam Mail. Actual Result: Not A Spam Mail\n",
      "Predicted Result: Spam Mail. Actual Result: Spam Mail\n",
      "Predicted Result: Spam Mail. Actual Result: Spam Mail\n",
      "Predicted Result: Spam Mail. Actual Result: Spam Mail\n",
      "Predicted Result: Not A Spam Mail. Actual Result: Not A Spam Mail\n",
      "Predicted Result: Spam Mail. Actual Result: Spam Mail\n",
      "Predicted Result: Spam Mail. Actual Result: Spam Mail\n",
      "Predicted Result: Not A Spam Mail. Actual Result: Not A Spam Mail\n",
      "Predicted Result: Spam Mail. Actual Result: Spam Mail\n",
      "Predicted Result: Not A Spam Mail. Actual Result: Not A Spam Mail\n",
      "Predicted Result: Not A Spam Mail. Actual Result: Not A Spam Mail\n",
      "Predicted Result: Not A Spam Mail. Actual Result: Not A Spam Mail\n",
      "Predicted Result: Not A Spam Mail. Actual Result: Not A Spam Mail\n",
      "Predicted Result: Not A Spam Mail. Actual Result: Not A Spam Mail\n",
      "Predicted Result: Not A Spam Mail. Actual Result: Spam Mail\n",
      "Predicted Result: Not A Spam Mail. Actual Result: Not A Spam Mail\n",
      "Predicted Result: Not A Spam Mail. Actual Result: Not A Spam Mail\n",
      "Predicted Result: Spam Mail. Actual Result: Spam Mail\n",
      "Predicted Result: Not A Spam Mail. Actual Result: Not A Spam Mail\n",
      "Predicted Result: Spam Mail. Actual Result: Spam Mail\n",
      "Predicted Result: Spam Mail. Actual Result: Spam Mail\n",
      "Predicted Result: Not A Spam Mail. Actual Result: Not A Spam Mail\n",
      "Predicted Result: Spam Mail. Actual Result: Spam Mail\n",
      "Predicted Result: Spam Mail. Actual Result: Spam Mail\n",
      "Predicted Result: Spam Mail. Actual Result: Spam Mail\n",
      "Predicted Result: Not A Spam Mail. Actual Result: Not A Spam Mail\n",
      "Predicted Result: Spam Mail. Actual Result: Spam Mail\n",
      "Predicted Result: Spam Mail. Actual Result: Spam Mail\n",
      "Predicted Result: Spam Mail. Actual Result: Spam Mail\n",
      "Predicted Result: Spam Mail. Actual Result: Spam Mail\n",
      "Predicted Result: Spam Mail. Actual Result: Spam Mail\n",
      "Predicted Result: Not A Spam Mail. Actual Result: Not A Spam Mail\n",
      "Predicted Result: Spam Mail. Actual Result: Spam Mail\n",
      "Predicted Result: Spam Mail. Actual Result: Spam Mail\n",
      "Predicted Result: Spam Mail. Actual Result: Spam Mail\n",
      "Predicted Result: Spam Mail. Actual Result: Spam Mail\n",
      "Predicted Result: Not A Spam Mail. Actual Result: Not A Spam Mail\n",
      "Predicted Result: Not A Spam Mail. Actual Result: Not A Spam Mail\n",
      "Predicted Result: Not A Spam Mail. Actual Result: Not A Spam Mail\n",
      "Predicted Result: Not A Spam Mail. Actual Result: Not A Spam Mail\n",
      "Predicted Result: Not A Spam Mail. Actual Result: Not A Spam Mail\n",
      "Predicted Result: Spam Mail. Actual Result: Spam Mail\n",
      "Predicted Result: Spam Mail. Actual Result: Spam Mail\n",
      "Predicted Result: Spam Mail. Actual Result: Spam Mail\n",
      "Predicted Result: Not A Spam Mail. Actual Result: Not A Spam Mail\n",
      "Predicted Result: Not A Spam Mail. Actual Result: Not A Spam Mail\n",
      "Predicted Result: Spam Mail. Actual Result: Spam Mail\n",
      "Predicted Result: Not A Spam Mail. Actual Result: Not A Spam Mail\n",
      "Predicted Result: Spam Mail. Actual Result: Spam Mail\n",
      "Predicted Result: Not A Spam Mail. Actual Result: Not A Spam Mail\n",
      "Predicted Result: Spam Mail. Actual Result: Spam Mail\n",
      "Predicted Result: Spam Mail. Actual Result: Spam Mail\n",
      "Predicted Result: Not A Spam Mail. Actual Result: Not A Spam Mail\n",
      "Predicted Result: Spam Mail. Actual Result: Spam Mail\n",
      "Predicted Result: Spam Mail. Actual Result: Spam Mail\n",
      "Predicted Result: Spam Mail. Actual Result: Spam Mail\n",
      "Predicted Result: Not A Spam Mail. Actual Result: Not A Spam Mail\n",
      "Predicted Result: Spam Mail. Actual Result: Spam Mail\n",
      "Predicted Result: Not A Spam Mail. Actual Result: Not A Spam Mail\n",
      "Predicted Result: Spam Mail. Actual Result: Spam Mail\n",
      "Predicted Result: Not A Spam Mail. Actual Result: Not A Spam Mail\n",
      "Predicted Result: Not A Spam Mail. Actual Result: Not A Spam Mail\n",
      "Predicted Result: Not A Spam Mail. Actual Result: Not A Spam Mail\n",
      "Predicted Result: Not A Spam Mail. Actual Result: Not A Spam Mail\n",
      "Predicted Result: Not A Spam Mail. Actual Result: Not A Spam Mail\n",
      "Predicted Result: Spam Mail. Actual Result: Spam Mail\n",
      "Predicted Result: Spam Mail. Actual Result: Spam Mail\n",
      "Predicted Result: Spam Mail. Actual Result: Spam Mail\n",
      "Predicted Result: Not A Spam Mail. Actual Result: Not A Spam Mail\n",
      "Predicted Result: Not A Spam Mail. Actual Result: Not A Spam Mail\n",
      "Predicted Result: Not A Spam Mail. Actual Result: Not A Spam Mail\n",
      "Predicted Result: Spam Mail. Actual Result: Spam Mail\n",
      "Predicted Result: Not A Spam Mail. Actual Result: Not A Spam Mail\n",
      "Predicted Result: Spam Mail. Actual Result: Spam Mail\n",
      "Predicted Result: Not A Spam Mail. Actual Result: Not A Spam Mail\n",
      "Predicted Result: Spam Mail. Actual Result: Spam Mail\n",
      "Predicted Result: Spam Mail. Actual Result: Spam Mail\n",
      "Predicted Result: Not A Spam Mail. Actual Result: Not A Spam Mail\n",
      "Predicted Result: Not A Spam Mail. Actual Result: Not A Spam Mail\n",
      "Predicted Result: Spam Mail. Actual Result: Spam Mail\n",
      "Predicted Result: Spam Mail. Actual Result: Spam Mail\n",
      "Predicted Result: Spam Mail. Actual Result: Spam Mail\n",
      "Predicted Result: Spam Mail. Actual Result: Spam Mail\n",
      "Predicted Result: Not A Spam Mail. Actual Result: Not A Spam Mail\n",
      "Predicted Result: Spam Mail. Actual Result: Spam Mail\n",
      "Predicted Result: Not A Spam Mail. Actual Result: Not A Spam Mail\n",
      "Predicted Result: Not A Spam Mail. Actual Result: Not A Spam Mail\n",
      "Predicted Result: Not A Spam Mail. Actual Result: Not A Spam Mail\n",
      "Predicted Result: Spam Mail. Actual Result: Not A Spam Mail\n",
      "Predicted Result: Spam Mail. Actual Result: Spam Mail\n",
      "Predicted Result: Spam Mail. Actual Result: Spam Mail\n",
      "Predicted Result: Spam Mail. Actual Result: Spam Mail\n",
      "Predicted Result: Not A Spam Mail. Actual Result: Not A Spam Mail\n",
      "Predicted Result: Spam Mail. Actual Result: Spam Mail\n",
      "Predicted Result: Spam Mail. Actual Result: Spam Mail\n",
      "Predicted Result: Spam Mail. Actual Result: Spam Mail\n",
      "Predicted Result: Spam Mail. Actual Result: Spam Mail\n",
      "Predicted Result: Not A Spam Mail. Actual Result: Not A Spam Mail\n",
      "Predicted Result: Not A Spam Mail. Actual Result: Not A Spam Mail\n",
      "Predicted Result: Spam Mail. Actual Result: Spam Mail\n",
      "Predicted Result: Not A Spam Mail. Actual Result: Not A Spam Mail\n",
      "Predicted Result: Spam Mail. Actual Result: Spam Mail\n",
      "Predicted Result: Spam Mail. Actual Result: Spam Mail\n",
      "Predicted Result: Spam Mail. Actual Result: Spam Mail\n",
      "Predicted Result: Spam Mail. Actual Result: Spam Mail\n",
      "Predicted Result: Spam Mail. Actual Result: Spam Mail\n",
      "Predicted Result: Spam Mail. Actual Result: Spam Mail\n",
      "Predicted Result: Spam Mail. Actual Result: Spam Mail\n",
      "Predicted Result: Spam Mail. Actual Result: Spam Mail\n",
      "Predicted Result: Spam Mail. Actual Result: Spam Mail\n",
      "Predicted Result: Spam Mail. Actual Result: Spam Mail\n",
      "Predicted Result: Not A Spam Mail. Actual Result: Not A Spam Mail\n",
      "Predicted Result: Spam Mail. Actual Result: Spam Mail\n",
      "Predicted Result: Not A Spam Mail. Actual Result: Not A Spam Mail\n",
      "Predicted Result: Not A Spam Mail. Actual Result: Not A Spam Mail\n",
      "Predicted Result: Spam Mail. Actual Result: Spam Mail\n",
      "Predicted Result: Not A Spam Mail. Actual Result: Not A Spam Mail\n",
      "Predicted Result: Spam Mail. Actual Result: Spam Mail\n",
      "Predicted Result: Spam Mail. Actual Result: Spam Mail\n",
      "Predicted Result: Spam Mail. Actual Result: Spam Mail\n",
      "Predicted Result: Spam Mail. Actual Result: Spam Mail\n",
      "Predicted Result: Not A Spam Mail. Actual Result: Not A Spam Mail\n",
      "Predicted Result: Not A Spam Mail. Actual Result: Not A Spam Mail\n",
      "Predicted Result: Spam Mail. Actual Result: Spam Mail\n",
      "Predicted Result: Spam Mail. Actual Result: Spam Mail\n",
      "Predicted Result: Not A Spam Mail. Actual Result: Not A Spam Mail\n",
      "Predicted Result: Not A Spam Mail. Actual Result: Not A Spam Mail\n",
      "Predicted Result: Spam Mail. Actual Result: Spam Mail\n",
      "Predicted Result: Not A Spam Mail. Actual Result: Not A Spam Mail\n",
      "Predicted Result: Spam Mail. Actual Result: Spam Mail\n",
      "Predicted Result: Spam Mail. Actual Result: Spam Mail\n",
      "Predicted Result: Spam Mail. Actual Result: Not A Spam Mail\n",
      "Predicted Result: Not A Spam Mail. Actual Result: Not A Spam Mail\n",
      "Predicted Result: Spam Mail. Actual Result: Spam Mail\n",
      "Predicted Result: Not A Spam Mail. Actual Result: Not A Spam Mail\n",
      "Predicted Result: Spam Mail. Actual Result: Spam Mail\n",
      "Predicted Result: Spam Mail. Actual Result: Spam Mail\n",
      "Predicted Result: Not A Spam Mail. Actual Result: Not A Spam Mail\n",
      "Predicted Result: Not A Spam Mail. Actual Result: Not A Spam Mail\n",
      "Predicted Result: Spam Mail. Actual Result: Spam Mail\n",
      "Predicted Result: Spam Mail. Actual Result: Spam Mail\n",
      "Predicted Result: Not A Spam Mail. Actual Result: Not A Spam Mail\n",
      "Predicted Result: Spam Mail. Actual Result: Not A Spam Mail\n",
      "Predicted Result: Not A Spam Mail. Actual Result: Not A Spam Mail\n",
      "Predicted Result: Not A Spam Mail. Actual Result: Not A Spam Mail\n",
      "Predicted Result: Spam Mail. Actual Result: Spam Mail\n",
      "Predicted Result: Not A Spam Mail. Actual Result: Not A Spam Mail\n",
      "Predicted Result: Not A Spam Mail. Actual Result: Not A Spam Mail\n",
      "Predicted Result: Not A Spam Mail. Actual Result: Not A Spam Mail\n",
      "Predicted Result: Spam Mail. Actual Result: Spam Mail\n",
      "Predicted Result: Not A Spam Mail. Actual Result: Not A Spam Mail\n",
      "Predicted Result: Not A Spam Mail. Actual Result: Not A Spam Mail\n",
      "Predicted Result: Spam Mail. Actual Result: Spam Mail\n",
      "Predicted Result: Not A Spam Mail. Actual Result: Not A Spam Mail\n",
      "Predicted Result: Spam Mail. Actual Result: Spam Mail\n",
      "Predicted Result: Spam Mail. Actual Result: Spam Mail\n",
      "Predicted Result: Not A Spam Mail. Actual Result: Not A Spam Mail\n",
      "Predicted Result: Not A Spam Mail. Actual Result: Not A Spam Mail\n",
      "Predicted Result: Not A Spam Mail. Actual Result: Not A Spam Mail\n",
      "Predicted Result: Not A Spam Mail. Actual Result: Not A Spam Mail\n",
      "Predicted Result: Not A Spam Mail. Actual Result: Not A Spam Mail\n",
      "Predicted Result: Not A Spam Mail. Actual Result: Not A Spam Mail\n",
      "Predicted Result: Not A Spam Mail. Actual Result: Not A Spam Mail\n",
      "Predicted Result: Spam Mail. Actual Result: Spam Mail\n",
      "Predicted Result: Not A Spam Mail. Actual Result: Not A Spam Mail\n",
      "Predicted Result: Not A Spam Mail. Actual Result: Not A Spam Mail\n",
      "Predicted Result: Not A Spam Mail. Actual Result: Not A Spam Mail\n",
      "Predicted Result: Not A Spam Mail. Actual Result: Not A Spam Mail\n",
      "Predicted Result: Not A Spam Mail. Actual Result: Not A Spam Mail\n",
      "Predicted Result: Spam Mail. Actual Result: Spam Mail\n",
      "Predicted Result: Not A Spam Mail. Actual Result: Not A Spam Mail\n",
      "Predicted Result: Spam Mail. Actual Result: Spam Mail\n",
      "Predicted Result: Not A Spam Mail. Actual Result: Not A Spam Mail\n",
      "Predicted Result: Not A Spam Mail. Actual Result: Not A Spam Mail\n",
      "Predicted Result: Not A Spam Mail. Actual Result: Not A Spam Mail\n",
      "Predicted Result: Spam Mail. Actual Result: Spam Mail\n",
      "Predicted Result: Spam Mail. Actual Result: Spam Mail\n",
      "Predicted Result: Spam Mail. Actual Result: Spam Mail\n",
      "Predicted Result: Not A Spam Mail. Actual Result: Not A Spam Mail\n",
      "Predicted Result: Not A Spam Mail. Actual Result: Not A Spam Mail\n",
      "Predicted Result: Not A Spam Mail. Actual Result: Not A Spam Mail\n",
      "Predicted Result: Spam Mail. Actual Result: Spam Mail\n",
      "Predicted Result: Not A Spam Mail. Actual Result: Not A Spam Mail\n",
      "Predicted Result: Spam Mail. Actual Result: Spam Mail\n",
      "Predicted Result: Spam Mail. Actual Result: Spam Mail\n",
      "Predicted Result: Spam Mail. Actual Result: Spam Mail\n",
      "Predicted Result: Spam Mail. Actual Result: Spam Mail\n",
      "Predicted Result: Spam Mail. Actual Result: Spam Mail\n",
      "Predicted Result: Not A Spam Mail. Actual Result: Not A Spam Mail\n",
      "Predicted Result: Not A Spam Mail. Actual Result: Not A Spam Mail\n",
      "Predicted Result: Not A Spam Mail. Actual Result: Not A Spam Mail\n",
      "Predicted Result: Spam Mail. Actual Result: Spam Mail\n",
      "Predicted Result: Spam Mail. Actual Result: Spam Mail\n",
      "Predicted Result: Spam Mail. Actual Result: Spam Mail\n",
      "Predicted Result: Not A Spam Mail. Actual Result: Not A Spam Mail\n",
      "Predicted Result: Spam Mail. Actual Result: Spam Mail\n",
      "Predicted Result: Not A Spam Mail. Actual Result: Not A Spam Mail\n",
      "Predicted Result: Spam Mail. Actual Result: Spam Mail\n",
      "Predicted Result: Spam Mail. Actual Result: Spam Mail\n",
      "Predicted Result: Spam Mail. Actual Result: Spam Mail\n",
      "Predicted Result: Not A Spam Mail. Actual Result: Not A Spam Mail\n",
      "Predicted Result: Not A Spam Mail. Actual Result: Not A Spam Mail\n",
      "Predicted Result: Spam Mail. Actual Result: Spam Mail\n",
      "Predicted Result: Not A Spam Mail. Actual Result: Not A Spam Mail\n",
      "Predicted Result: Spam Mail. Actual Result: Spam Mail\n",
      "Predicted Result: Spam Mail. Actual Result: Spam Mail\n",
      "Predicted Result: Spam Mail. Actual Result: Spam Mail\n",
      "Predicted Result: Spam Mail. Actual Result: Spam Mail\n",
      "Predicted Result: Not A Spam Mail. Actual Result: Not A Spam Mail\n",
      "Predicted Result: Spam Mail. Actual Result: Spam Mail\n",
      "Predicted Result: Not A Spam Mail. Actual Result: Not A Spam Mail\n",
      "Predicted Result: Spam Mail. Actual Result: Spam Mail\n",
      "Predicted Result: Not A Spam Mail. Actual Result: Not A Spam Mail\n",
      "Predicted Result: Spam Mail. Actual Result: Spam Mail\n",
      "Predicted Result: Not A Spam Mail. Actual Result: Not A Spam Mail\n",
      "Predicted Result: Not A Spam Mail. Actual Result: Not A Spam Mail\n",
      "Predicted Result: Spam Mail. Actual Result: Spam Mail\n",
      "Predicted Result: Not A Spam Mail. Actual Result: Not A Spam Mail\n",
      "Predicted Result: Not A Spam Mail. Actual Result: Not A Spam Mail\n",
      "Predicted Result: Not A Spam Mail. Actual Result: Not A Spam Mail\n",
      "Predicted Result: Spam Mail. Actual Result: Spam Mail\n",
      "Predicted Result: Spam Mail. Actual Result: Spam Mail\n",
      "Predicted Result: Spam Mail. Actual Result: Spam Mail\n",
      "Predicted Result: Not A Spam Mail. Actual Result: Not A Spam Mail\n",
      "Predicted Result: Not A Spam Mail. Actual Result: Not A Spam Mail\n",
      "Predicted Result: Not A Spam Mail. Actual Result: Not A Spam Mail\n",
      "Predicted Result: Spam Mail. Actual Result: Spam Mail\n",
      "Predicted Result: Spam Mail. Actual Result: Spam Mail\n",
      "Predicted Result: Not A Spam Mail. Actual Result: Not A Spam Mail\n",
      "Predicted Result: Not A Spam Mail. Actual Result: Not A Spam Mail\n",
      "Predicted Result: Not A Spam Mail. Actual Result: Not A Spam Mail\n",
      "Predicted Result: Spam Mail. Actual Result: Spam Mail\n",
      "Predicted Result: Spam Mail. Actual Result: Spam Mail\n",
      "Predicted Result: Spam Mail. Actual Result: Spam Mail\n",
      "Predicted Result: Spam Mail. Actual Result: Spam Mail\n",
      "Predicted Result: Not A Spam Mail. Actual Result: Not A Spam Mail\n",
      "Predicted Result: Not A Spam Mail. Actual Result: Not A Spam Mail\n",
      "Predicted Result: Spam Mail. Actual Result: Spam Mail\n",
      "Predicted Result: Not A Spam Mail. Actual Result: Not A Spam Mail\n",
      "Predicted Result: Not A Spam Mail. Actual Result: Not A Spam Mail\n",
      "Predicted Result: Spam Mail. Actual Result: Spam Mail\n",
      "Predicted Result: Not A Spam Mail. Actual Result: Not A Spam Mail\n",
      "Predicted Result: Not A Spam Mail. Actual Result: Not A Spam Mail\n",
      "Predicted Result: Spam Mail. Actual Result: Spam Mail\n",
      "Predicted Result: Not A Spam Mail. Actual Result: Not A Spam Mail\n",
      "Predicted Result: Not A Spam Mail. Actual Result: Not A Spam Mail\n",
      "Predicted Result: Not A Spam Mail. Actual Result: Not A Spam Mail\n",
      "Predicted Result: Not A Spam Mail. Actual Result: Not A Spam Mail\n",
      "Predicted Result: Not A Spam Mail. Actual Result: Not A Spam Mail\n",
      "Predicted Result: Not A Spam Mail. Actual Result: Not A Spam Mail\n",
      "Predicted Result: Spam Mail. Actual Result: Spam Mail\n",
      "Predicted Result: Not A Spam Mail. Actual Result: Not A Spam Mail\n",
      "Predicted Result: Not A Spam Mail. Actual Result: Not A Spam Mail\n",
      "Predicted Result: Not A Spam Mail. Actual Result: Not A Spam Mail\n",
      "Predicted Result: Not A Spam Mail. Actual Result: Not A Spam Mail\n",
      "Predicted Result: Spam Mail. Actual Result: Not A Spam Mail\n",
      "Predicted Result: Spam Mail. Actual Result: Spam Mail\n",
      "Predicted Result: Spam Mail. Actual Result: Spam Mail\n",
      "Predicted Result: Spam Mail. Actual Result: Spam Mail\n",
      "Predicted Result: Spam Mail. Actual Result: Spam Mail\n",
      "Predicted Result: Spam Mail. Actual Result: Spam Mail\n",
      "Predicted Result: Spam Mail. Actual Result: Not A Spam Mail\n",
      "Predicted Result: Spam Mail. Actual Result: Spam Mail\n",
      "Predicted Result: Not A Spam Mail. Actual Result: Not A Spam Mail\n",
      "Predicted Result: Spam Mail. Actual Result: Spam Mail\n",
      "Predicted Result: Not A Spam Mail. Actual Result: Not A Spam Mail\n",
      "Predicted Result: Spam Mail. Actual Result: Spam Mail\n",
      "Predicted Result: Not A Spam Mail. Actual Result: Not A Spam Mail\n",
      "Predicted Result: Not A Spam Mail. Actual Result: Not A Spam Mail\n",
      "Predicted Result: Spam Mail. Actual Result: Spam Mail\n",
      "Predicted Result: Spam Mail. Actual Result: Spam Mail\n",
      "Predicted Result: Not A Spam Mail. Actual Result: Not A Spam Mail\n",
      "Predicted Result: Spam Mail. Actual Result: Spam Mail\n",
      "Predicted Result: Spam Mail. Actual Result: Spam Mail\n",
      "Predicted Result: Not A Spam Mail. Actual Result: Not A Spam Mail\n",
      "Predicted Result: Not A Spam Mail. Actual Result: Not A Spam Mail\n",
      "Predicted Result: Spam Mail. Actual Result: Spam Mail\n",
      "Predicted Result: Spam Mail. Actual Result: Spam Mail\n",
      "Predicted Result: Spam Mail. Actual Result: Spam Mail\n",
      "Predicted Result: Spam Mail. Actual Result: Spam Mail\n",
      "Predicted Result: Spam Mail. Actual Result: Spam Mail\n",
      "Predicted Result: Spam Mail. Actual Result: Spam Mail\n",
      "Predicted Result: Not A Spam Mail. Actual Result: Not A Spam Mail\n",
      "Predicted Result: Not A Spam Mail. Actual Result: Not A Spam Mail\n",
      "Predicted Result: Spam Mail. Actual Result: Spam Mail\n",
      "Predicted Result: Spam Mail. Actual Result: Spam Mail\n",
      "Predicted Result: Not A Spam Mail. Actual Result: Not A Spam Mail\n",
      "Predicted Result: Spam Mail. Actual Result: Spam Mail\n",
      "Predicted Result: Spam Mail. Actual Result: Spam Mail\n",
      "Predicted Result: Not A Spam Mail. Actual Result: Not A Spam Mail\n",
      "Predicted Result: Not A Spam Mail. Actual Result: Not A Spam Mail\n",
      "Predicted Result: Spam Mail. Actual Result: Spam Mail\n",
      "Predicted Result: Not A Spam Mail. Actual Result: Not A Spam Mail\n",
      "Predicted Result: Not A Spam Mail. Actual Result: Not A Spam Mail\n",
      "Predicted Result: Spam Mail. Actual Result: Spam Mail\n",
      "Predicted Result: Not A Spam Mail. Actual Result: Not A Spam Mail\n",
      "Predicted Result: Spam Mail. Actual Result: Spam Mail\n",
      "Predicted Result: Spam Mail. Actual Result: Spam Mail\n",
      "Predicted Result: Spam Mail. Actual Result: Spam Mail\n",
      "Predicted Result: Not A Spam Mail. Actual Result: Not A Spam Mail\n",
      "Predicted Result: Not A Spam Mail. Actual Result: Not A Spam Mail\n",
      "Predicted Result: Spam Mail. Actual Result: Spam Mail\n",
      "Predicted Result: Not A Spam Mail. Actual Result: Not A Spam Mail\n",
      "Predicted Result: Spam Mail. Actual Result: Spam Mail\n",
      "Predicted Result: Spam Mail. Actual Result: Spam Mail\n",
      "Predicted Result: Spam Mail. Actual Result: Spam Mail\n",
      "Predicted Result: Spam Mail. Actual Result: Spam Mail\n",
      "Predicted Result: Not A Spam Mail. Actual Result: Not A Spam Mail\n",
      "Predicted Result: Not A Spam Mail. Actual Result: Not A Spam Mail\n",
      "Predicted Result: Not A Spam Mail. Actual Result: Not A Spam Mail\n",
      "Predicted Result: Not A Spam Mail. Actual Result: Not A Spam Mail\n",
      "Predicted Result: Not A Spam Mail. Actual Result: Not A Spam Mail\n",
      "Predicted Result: Spam Mail. Actual Result: Spam Mail\n",
      "Predicted Result: Spam Mail. Actual Result: Spam Mail\n",
      "Predicted Result: Not A Spam Mail. Actual Result: Not A Spam Mail\n",
      "Predicted Result: Spam Mail. Actual Result: Spam Mail\n",
      "Predicted Result: Spam Mail. Actual Result: Spam Mail\n",
      "Predicted Result: Not A Spam Mail. Actual Result: Not A Spam Mail\n",
      "Predicted Result: Spam Mail. Actual Result: Spam Mail\n",
      "Predicted Result: Not A Spam Mail. Actual Result: Not A Spam Mail\n",
      "Predicted Result: Not A Spam Mail. Actual Result: Not A Spam Mail\n",
      "Predicted Result: Spam Mail. Actual Result: Spam Mail\n",
      "Predicted Result: Spam Mail. Actual Result: Spam Mail\n",
      "Predicted Result: Spam Mail. Actual Result: Spam Mail\n",
      "Predicted Result: Spam Mail. Actual Result: Spam Mail\n",
      "Predicted Result: Spam Mail. Actual Result: Spam Mail\n",
      "Predicted Result: Spam Mail. Actual Result: Spam Mail\n",
      "Predicted Result: Not A Spam Mail. Actual Result: Not A Spam Mail\n",
      "Predicted Result: Spam Mail. Actual Result: Spam Mail\n",
      "Predicted Result: Not A Spam Mail. Actual Result: Not A Spam Mail\n",
      "Predicted Result: Not A Spam Mail. Actual Result: Not A Spam Mail\n",
      "Predicted Result: Not A Spam Mail. Actual Result: Not A Spam Mail\n",
      "Predicted Result: Not A Spam Mail. Actual Result: Not A Spam Mail\n",
      "Predicted Result: Not A Spam Mail. Actual Result: Not A Spam Mail\n",
      "Predicted Result: Spam Mail. Actual Result: Spam Mail\n",
      "Predicted Result: Not A Spam Mail. Actual Result: Not A Spam Mail\n",
      "Predicted Result: Spam Mail. Actual Result: Spam Mail\n",
      "Predicted Result: Not A Spam Mail. Actual Result: Not A Spam Mail\n",
      "Predicted Result: Spam Mail. Actual Result: Spam Mail\n",
      "Predicted Result: Spam Mail. Actual Result: Spam Mail\n",
      "Predicted Result: Not A Spam Mail. Actual Result: Not A Spam Mail\n",
      "Predicted Result: Spam Mail. Actual Result: Spam Mail\n",
      "Predicted Result: Spam Mail. Actual Result: Spam Mail\n",
      "Predicted Result: Spam Mail. Actual Result: Spam Mail\n",
      "Predicted Result: Spam Mail. Actual Result: Spam Mail\n",
      "Predicted Result: Not A Spam Mail. Actual Result: Not A Spam Mail\n",
      "Predicted Result: Not A Spam Mail. Actual Result: Not A Spam Mail\n",
      "Predicted Result: Not A Spam Mail. Actual Result: Not A Spam Mail\n",
      "Predicted Result: Not A Spam Mail. Actual Result: Not A Spam Mail\n",
      "Predicted Result: Spam Mail. Actual Result: Spam Mail\n",
      "Predicted Result: Spam Mail. Actual Result: Spam Mail\n",
      "Predicted Result: Not A Spam Mail. Actual Result: Not A Spam Mail\n",
      "Predicted Result: Spam Mail. Actual Result: Spam Mail\n",
      "Predicted Result: Spam Mail. Actual Result: Spam Mail\n",
      "Predicted Result: Not A Spam Mail. Actual Result: Not A Spam Mail\n",
      "Predicted Result: Not A Spam Mail. Actual Result: Not A Spam Mail\n",
      "Predicted Result: Not A Spam Mail. Actual Result: Not A Spam Mail\n",
      "Predicted Result: Spam Mail. Actual Result: Spam Mail\n",
      "Predicted Result: Not A Spam Mail. Actual Result: Not A Spam Mail\n",
      "Predicted Result: Not A Spam Mail. Actual Result: Not A Spam Mail\n",
      "Predicted Result: Not A Spam Mail. Actual Result: Not A Spam Mail\n",
      "Predicted Result: Not A Spam Mail. Actual Result: Not A Spam Mail\n",
      "Predicted Result: Not A Spam Mail. Actual Result: Not A Spam Mail\n",
      "Predicted Result: Not A Spam Mail. Actual Result: Not A Spam Mail\n",
      "Predicted Result: Not A Spam Mail. Actual Result: Not A Spam Mail\n",
      "Predicted Result: Spam Mail. Actual Result: Spam Mail\n",
      "Predicted Result: Spam Mail. Actual Result: Spam Mail\n",
      "Predicted Result: Not A Spam Mail. Actual Result: Not A Spam Mail\n",
      "Predicted Result: Not A Spam Mail. Actual Result: Not A Spam Mail\n",
      "Predicted Result: Spam Mail. Actual Result: Spam Mail\n",
      "Predicted Result: Spam Mail. Actual Result: Spam Mail\n",
      "Predicted Result: Not A Spam Mail. Actual Result: Not A Spam Mail\n",
      "Predicted Result: Not A Spam Mail. Actual Result: Not A Spam Mail\n",
      "Predicted Result: Not A Spam Mail. Actual Result: Not A Spam Mail\n",
      "Predicted Result: Spam Mail. Actual Result: Spam Mail\n",
      "Predicted Result: Not A Spam Mail. Actual Result: Not A Spam Mail\n",
      "Predicted Result: Not A Spam Mail. Actual Result: Not A Spam Mail\n",
      "Predicted Result: Spam Mail. Actual Result: Spam Mail\n",
      "Predicted Result: Not A Spam Mail. Actual Result: Not A Spam Mail\n",
      "Predicted Result: Spam Mail. Actual Result: Spam Mail\n",
      "Predicted Result: Not A Spam Mail. Actual Result: Not A Spam Mail\n",
      "Predicted Result: Not A Spam Mail. Actual Result: Not A Spam Mail\n",
      "Predicted Result: Spam Mail. Actual Result: Spam Mail\n",
      "Predicted Result: Not A Spam Mail. Actual Result: Not A Spam Mail\n",
      "Predicted Result: Not A Spam Mail. Actual Result: Not A Spam Mail\n",
      "Predicted Result: Spam Mail. Actual Result: Spam Mail\n",
      "Predicted Result: Spam Mail. Actual Result: Spam Mail\n",
      "Predicted Result: Not A Spam Mail. Actual Result: Not A Spam Mail\n",
      "Predicted Result: Spam Mail. Actual Result: Spam Mail\n",
      "Predicted Result: Spam Mail. Actual Result: Spam Mail\n",
      "Predicted Result: Not A Spam Mail. Actual Result: Not A Spam Mail\n",
      "Predicted Result: Spam Mail. Actual Result: Spam Mail\n",
      "Predicted Result: Not A Spam Mail. Actual Result: Not A Spam Mail\n",
      "Predicted Result: Not A Spam Mail. Actual Result: Not A Spam Mail\n",
      "Predicted Result: Not A Spam Mail. Actual Result: Not A Spam Mail\n",
      "Predicted Result: Spam Mail. Actual Result: Spam Mail\n",
      "Predicted Result: Spam Mail. Actual Result: Spam Mail\n",
      "Predicted Result: Spam Mail. Actual Result: Spam Mail\n",
      "Predicted Result: Spam Mail. Actual Result: Spam Mail\n",
      "Predicted Result: Spam Mail. Actual Result: Spam Mail\n",
      "Predicted Result: Not A Spam Mail. Actual Result: Not A Spam Mail\n",
      "Predicted Result: Not A Spam Mail. Actual Result: Not A Spam Mail\n",
      "Predicted Result: Not A Spam Mail. Actual Result: Not A Spam Mail\n",
      "Predicted Result: Not A Spam Mail. Actual Result: Not A Spam Mail\n",
      "Predicted Result: Spam Mail. Actual Result: Spam Mail\n",
      "Predicted Result: Not A Spam Mail. Actual Result: Not A Spam Mail\n",
      "Predicted Result: Not A Spam Mail. Actual Result: Not A Spam Mail\n",
      "Predicted Result: Spam Mail. Actual Result: Spam Mail\n",
      "Predicted Result: Not A Spam Mail. Actual Result: Not A Spam Mail\n",
      "Predicted Result: Spam Mail. Actual Result: Spam Mail\n",
      "Predicted Result: Spam Mail. Actual Result: Spam Mail\n",
      "Predicted Result: Not A Spam Mail. Actual Result: Not A Spam Mail\n",
      "Predicted Result: Spam Mail. Actual Result: Spam Mail\n",
      "Predicted Result: Spam Mail. Actual Result: Spam Mail\n",
      "Predicted Result: Spam Mail. Actual Result: Spam Mail\n",
      "Predicted Result: Spam Mail. Actual Result: Spam Mail\n",
      "Predicted Result: Not A Spam Mail. Actual Result: Not A Spam Mail\n",
      "Predicted Result: Spam Mail. Actual Result: Spam Mail\n",
      "Predicted Result: Spam Mail. Actual Result: Spam Mail\n",
      "Predicted Result: Not A Spam Mail. Actual Result: Not A Spam Mail\n",
      "Predicted Result: Spam Mail. Actual Result: Spam Mail\n",
      "Predicted Result: Spam Mail. Actual Result: Spam Mail\n",
      "Predicted Result: Not A Spam Mail. Actual Result: Not A Spam Mail\n",
      "Predicted Result: Spam Mail. Actual Result: Spam Mail\n",
      "Predicted Result: Not A Spam Mail. Actual Result: Not A Spam Mail\n",
      "Predicted Result: Not A Spam Mail. Actual Result: Not A Spam Mail\n",
      "Predicted Result: Not A Spam Mail. Actual Result: Not A Spam Mail\n",
      "Predicted Result: Spam Mail. Actual Result: Spam Mail\n",
      "Predicted Result: Spam Mail. Actual Result: Spam Mail\n",
      "Predicted Result: Not A Spam Mail. Actual Result: Not A Spam Mail\n",
      "Predicted Result: Spam Mail. Actual Result: Spam Mail\n",
      "Predicted Result: Spam Mail. Actual Result: Spam Mail\n",
      "Predicted Result: Not A Spam Mail. Actual Result: Not A Spam Mail\n",
      "Predicted Result: Not A Spam Mail. Actual Result: Not A Spam Mail\n",
      "Predicted Result: Not A Spam Mail. Actual Result: Not A Spam Mail\n",
      "Predicted Result: Not A Spam Mail. Actual Result: Not A Spam Mail\n",
      "Predicted Result: Spam Mail. Actual Result: Spam Mail\n",
      "Predicted Result: Spam Mail. Actual Result: Spam Mail\n",
      "Predicted Result: Not A Spam Mail. Actual Result: Not A Spam Mail\n",
      "Predicted Result: Spam Mail. Actual Result: Spam Mail\n",
      "Predicted Result: Not A Spam Mail. Actual Result: Not A Spam Mail\n",
      "Predicted Result: Spam Mail. Actual Result: Spam Mail\n",
      "Predicted Result: Not A Spam Mail. Actual Result: Not A Spam Mail\n",
      "Predicted Result: Spam Mail. Actual Result: Spam Mail\n",
      "Predicted Result: Not A Spam Mail. Actual Result: Not A Spam Mail\n",
      "Predicted Result: Spam Mail. Actual Result: Spam Mail\n",
      "Predicted Result: Spam Mail. Actual Result: Spam Mail\n",
      "Predicted Result: Not A Spam Mail. Actual Result: Not A Spam Mail\n",
      "Predicted Result: Not A Spam Mail. Actual Result: Not A Spam Mail\n",
      "Predicted Result: Not A Spam Mail. Actual Result: Not A Spam Mail\n",
      "Predicted Result: Spam Mail. Actual Result: Spam Mail\n",
      "Predicted Result: Spam Mail. Actual Result: Spam Mail\n",
      "Predicted Result: Spam Mail. Actual Result: Spam Mail\n",
      "Predicted Result: Spam Mail. Actual Result: Spam Mail\n",
      "Predicted Result: Spam Mail. Actual Result: Spam Mail\n",
      "Predicted Result: Spam Mail. Actual Result: Spam Mail\n",
      "Predicted Result: Not A Spam Mail. Actual Result: Not A Spam Mail\n",
      "Predicted Result: Spam Mail. Actual Result: Spam Mail\n",
      "Predicted Result: Not A Spam Mail. Actual Result: Not A Spam Mail\n",
      "Predicted Result: Not A Spam Mail. Actual Result: Not A Spam Mail\n",
      "Predicted Result: Spam Mail. Actual Result: Spam Mail\n",
      "Predicted Result: Not A Spam Mail. Actual Result: Not A Spam Mail\n"
     ]
    }
   ],
   "source": [
    "label_names = ['Not A Spam Mail', 'Spam Mail']\n",
    "\n",
    "y_test = y_test.reset_index(drop=True)\n",
    "\n",
    "for i in range(len(prediction_X_test)):\n",
    "    print(f\"Predicted Result: {label_names[prediction_X_test[i]]}. Actual Result: {label_names[y_test[i]]}\")\n"
   ]
  }
 ],
 "metadata": {
  "colab": {
   "provenance": []
  },
  "kernelspec": {
   "display_name": "Python 3 (ipykernel)",
   "language": "python",
   "name": "python3"
  },
  "language_info": {
   "codemirror_mode": {
    "name": "ipython",
    "version": 3
   },
   "file_extension": ".py",
   "mimetype": "text/x-python",
   "name": "python",
   "nbconvert_exporter": "python",
   "pygments_lexer": "ipython3",
   "version": "3.11.2"
  }
 },
 "nbformat": 4,
 "nbformat_minor": 1
}
